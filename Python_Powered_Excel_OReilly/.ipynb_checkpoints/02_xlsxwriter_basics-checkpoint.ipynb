{
 "cells": [
  {
   "cell_type": "markdown",
   "id": "73d3d38d-8a43-4587-9191-51d8c8557c56",
   "metadata": {},
   "source": [
    "# xlsxwriter basics\n",
    "\n",
    "Basic workflow\n",
    "1. Initialize the workbook\n",
    "2. Add a worksheet\n",
    "3. Make your changes\n",
    "4. Close the workbook"
   ]
  },
  {
   "cell_type": "code",
   "execution_count": 4,
   "id": "06b6752d-b61a-4b4c-be34-83d2d455295c",
   "metadata": {
    "tags": []
   },
   "outputs": [],
   "source": [
    "import xlsxwriter"
   ]
  },
  {
   "cell_type": "markdown",
   "id": "36ae5573-4207-4da6-842b-f49c184339ff",
   "metadata": {},
   "source": [
    "## 1. Simple xlsx file"
   ]
  },
  {
   "cell_type": "code",
   "execution_count": 10,
   "id": "e780aa57-9557-4ed8-9d50-da8b0fa4f1d4",
   "metadata": {
    "tags": []
   },
   "outputs": [],
   "source": [
    "workbook = xlsxwriter.Workbook(r'../output/01_basics.xlsx')\n",
    "\n",
    "worksheet = workbook.add_worksheet('helloworld')\n",
    "\n",
    "worksheet.write('A1', 'Hello, World!')\n",
    "\n",
    "workbook.close()"
   ]
  },
  {
   "cell_type": "markdown",
   "id": "faa3a44d-c3f5-483f-a306-63e8488cb8b8",
   "metadata": {},
   "source": [
    "## 2. Writing rows and columns to Excel (python uses 0)"
   ]
  },
  {
   "cell_type": "code",
   "execution_count": 13,
   "id": "e1e72fc8-ab55-43cb-9c99-6b3f56847d08",
   "metadata": {
    "tags": []
   },
   "outputs": [],
   "source": [
    "workbook = xlsxwriter.Workbook(r'../output/02_rows_columns.xlsx')\n",
    "\n",
    "worksheet = workbook.add_worksheet('rows_cols')\n",
    "\n",
    "my_row = ['Jack', 'Jill', 'Susan', 'Bobby']\n",
    "my_col = [0,1,1,2,3,5]\n",
    "\n",
    "worksheet.write_row('A1', my_row)\n",
    "\n",
    "worksheet.write_column(4, 4, my_col)\n",
    "\n",
    "workbook.close()"
   ]
  },
  {
   "cell_type": "markdown",
   "id": "2c50c994-4dbe-40cc-b75a-b683e5ae865a",
   "metadata": {},
   "source": [
    "## 3. Careful overwriting values"
   ]
  },
  {
   "cell_type": "code",
   "execution_count": 15,
   "id": "647df535-686c-4c40-a6be-1154ada6bf61",
   "metadata": {
    "tags": []
   },
   "outputs": [],
   "source": [
    "workbook = xlsxwriter.Workbook(r'../output/03_overwriting.xlsx')\n",
    "\n",
    "worksheet = workbook.add_worksheet('overwrite')\n",
    "\n",
    "my_row = [1,2,3,'Hi']\n",
    "my_col = [0,1,1,2,3,5]\n",
    "my_col_2 = [5,2,3]\n",
    "\n",
    "worksheet.write_row('A1', my_row)\n",
    "worksheet.write_column(0,0, my_col)\n",
    "worksheet.write_column('B1', my_col_2)\n",
    "\n",
    "workbook.close()"
   ]
  },
  {
   "cell_type": "markdown",
   "id": "c49276eb-1fa9-4f93-9112-363ac8023b02",
   "metadata": {},
   "source": [
    "## 4. Multiple worksheets"
   ]
  },
  {
   "cell_type": "code",
   "execution_count": 16,
   "id": "3a7fc850-7dbb-41fa-b914-4b586bb13b67",
   "metadata": {
    "tags": []
   },
   "outputs": [],
   "source": [
    "workbook = xlsxwriter.Workbook(r'../output/04_multipleworksheets.xlsx')\n",
    "\n",
    "worksheet1 = workbook.add_worksheet('mysheet1')\n",
    "worksheet2 = workbook.add_worksheet('mysheet2')\n",
    "worksheet3 = workbook.add_worksheet('mysheet3')\n",
    "\n",
    "worksheet1.write(1,4, 'hello worksheet!')\n",
    "worksheet2.write('A6', 'Writing to this cell in worksheet')\n",
    "worksheet3.write(0,0, 'start first cell')\n",
    "\n",
    "workbook.close()"
   ]
  },
  {
   "cell_type": "markdown",
   "id": "55123e6e-7b98-4a52-a2ff-7a1ae0efe4d7",
   "metadata": {
    "tags": []
   },
   "source": [
    "## 5. Simple customized Excel output\n",
    "1. Use cell formulas\n",
    "2. Change fonts and colors\n",
    "3. Freeze panes\n",
    "4. Add borders"
   ]
  },
  {
   "cell_type": "code",
   "execution_count": 21,
   "id": "11af633f-a33b-4987-b314-b70947b5f1a2",
   "metadata": {
    "tags": []
   },
   "outputs": [],
   "source": [
    "workbook = xlsxwriter.Workbook(r'../output/05_simple_customizations.xlsx')\n",
    "\n",
    "worksheet1 = workbook.add_worksheet('mysheet1')\n",
    "\n",
    "my_numbers = [1,2,3]\n",
    "my_string = 'Hello, world'\n",
    "\n",
    "worksheet1.write_column('A1', my_numbers)\n",
    "\n",
    "cell_bold = workbook.add_format()\n",
    "cell_bold.set_bold(True)\n",
    "worksheet1.write('A4','Sum:', cell_bold)\n",
    "\n",
    "worksheet1.write('D1', my_string)\n",
    "\n",
    "worksheet1.write_formula('B4', '=sum(A1:A3)')\n",
    "worksheet1.write_formula('D2', '=LEN(D1)')\n",
    "\n",
    "workbook.close()"
   ]
  },
  {
   "cell_type": "markdown",
   "id": "044a4c19-5a6f-49d5-a37a-b26a9755781b",
   "metadata": {
    "tags": []
   },
   "source": [
    "basic cell formats\n",
    "- set_bold()\n",
    "- set_font_color()\n",
    "- set_font_size()\n",
    "- set_font_name()\n",
    "- set_border()\n",
    "- set_top_border()"
   ]
  },
  {
   "cell_type": "markdown",
   "id": "01221cb6-50ea-4f0b-b854-2aee13e53c6e",
   "metadata": {},
   "source": [
    "## 6. Modifying mulitple attributes with dictionaries"
   ]
  },
  {
   "cell_type": "code",
   "execution_count": 24,
   "id": "834c49ae-f085-45d8-89a6-9986d05265f2",
   "metadata": {
    "tags": []
   },
   "outputs": [],
   "source": [
    "workbook = xlsxwriter.Workbook(r'../output/06_multiple_customizations.xlsx')\n",
    "\n",
    "worksheet1 = workbook.add_worksheet('mysheet1')\n",
    "\n",
    "cell_format = workbook.add_format({'font_size':12, 'font_name':'Segoe UI'})\n",
    "cell_format2 = workbook.add_format({'font_color':'Blue', 'bold':True,'border':True})\n",
    "\n",
    "worksheet1.write('A1', 'Hello everyone, adding formats', cell_format)\n",
    "worksheet1.write('A3', 'Adding the other cell_formats', cell_format2)\n",
    "\n",
    "workbook.close()"
   ]
  },
  {
   "cell_type": "markdown",
   "id": "8e7ceca6-c2ba-4069-ae3e-1378c02a84b3",
   "metadata": {},
   "source": [
    "## 7. Freezing panes"
   ]
  },
  {
   "cell_type": "code",
   "execution_count": 28,
   "id": "56d51757-68a8-4c6f-807f-0a5778ac0a89",
   "metadata": {
    "tags": []
   },
   "outputs": [],
   "source": [
    "workbook = xlsxwriter.Workbook(r'../output/07_freeze_panes.xlsx')\n",
    "\n",
    "worksheet = workbook.add_worksheet('new_sheet')\n",
    "\n",
    "name = ['Peter', 'John', 'Eva']\n",
    "grade = [100,90,90]\n",
    "\n",
    "worksheet.write_column('A1', name)\n",
    "worksheet.write_column('B1', grade)\n",
    "\n",
    "worksheet.freeze_panes(1,2)\n",
    "\n",
    "workbook.close()"
   ]
  },
  {
   "cell_type": "markdown",
   "id": "f0c215d0-b48d-45ee-8029-b6ae5a7f895b",
   "metadata": {},
   "source": [
    "## 8. Freeze panes, write data, add excel function"
   ]
  },
  {
   "cell_type": "code",
   "execution_count": 32,
   "id": "dc0f9ce9-35cd-44a3-af47-f90f76acea51",
   "metadata": {
    "tags": []
   },
   "outputs": [],
   "source": [
    "workbook = xlsxwriter.Workbook(r'../output/08_feeze_write_function.xlsx')\n",
    "\n",
    "students = ['students', 'Peter', 'Owen', 'Kristi']\n",
    "grades = ['grades', 90,80, 70]\n",
    "\n",
    "worksheet = workbook.add_worksheet('grades')\n",
    "\n",
    "## Write data\n",
    "worksheet.write_column('A1', students)\n",
    "worksheet.write_column('B1', grades)\n",
    "\n",
    "## Freeze panes\n",
    "worksheet.freeze_panes(1,1)\n",
    "\n",
    "## Add formula\n",
    "mean_format = workbook.add_format({'bold':True, 'border':True})\n",
    "worksheet.write_formula('B5', '=average(B2:B4)', mean_format)\n",
    "\n",
    "workbook.close()"
   ]
  },
  {
   "cell_type": "code",
   "execution_count": null,
   "id": "823ef92b-bfde-42c6-a7b7-4e9d09f7fd52",
   "metadata": {},
   "outputs": [],
   "source": []
  }
 ],
 "metadata": {
  "kernelspec": {
   "display_name": "Python 3 (ipykernel)",
   "language": "python",
   "name": "python3"
  },
  "language_info": {
   "codemirror_mode": {
    "name": "ipython",
    "version": 3
   },
   "file_extension": ".py",
   "mimetype": "text/x-python",
   "name": "python",
   "nbconvert_exporter": "python",
   "pygments_lexer": "ipython3",
   "version": "3.11.5"
  }
 },
 "nbformat": 4,
 "nbformat_minor": 5
}
