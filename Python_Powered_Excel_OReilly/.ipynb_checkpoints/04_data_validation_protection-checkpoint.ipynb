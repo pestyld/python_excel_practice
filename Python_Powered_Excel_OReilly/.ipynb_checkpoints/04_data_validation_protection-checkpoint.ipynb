{
 "cells": [
  {
   "cell_type": "markdown",
   "id": "d1659a8f-068a-4170-a94a-8a486b00165a",
   "metadata": {},
   "source": [
    "# Build Financial Report"
   ]
  },
  {
   "cell_type": "code",
   "execution_count": 65,
   "id": "b7d7c3f7-c6f5-4ca7-8ec4-38990a077a16",
   "metadata": {},
   "outputs": [],
   "source": [
    "import xlsxwriter\n",
    "\n",
    "regions = ['C','B','B','B','C','A','C','B','B','C']\n",
    "sales = [201, 293, 431, 111, 241, 321, 311, 187, 400, 354]\n",
    "labels = ['Region', 'Sales']\n",
    "\n",
    "## Create workbook\n",
    "workbook = xlsxwriter.Workbook(r'../output/10_sales_model.xlsx')"
   ]
  },
  {
   "cell_type": "code",
   "execution_count": 66,
   "id": "ae8bc1f9-7a4c-46f2-a459-1f5ddc09d677",
   "metadata": {},
   "outputs": [
    {
     "data": {
      "text/plain": [
       "0"
      ]
     },
     "execution_count": 66,
     "metadata": {},
     "output_type": "execute_result"
    }
   ],
   "source": [
    "worksheet = workbook.add_worksheet('data')\n",
    "\n",
    "worksheet.write_column('A2', regions)\n",
    "worksheet.write_column('B2', sales)\n",
    "worksheet.write_row('A1', labels)"
   ]
  },
  {
   "cell_type": "markdown",
   "id": "faf8c4cc-0315-4e00-8c18-06222e5ca07e",
   "metadata": {},
   "source": [
    "### Add autofilter"
   ]
  },
  {
   "cell_type": "code",
   "execution_count": 67,
   "id": "55dad295-70cf-4fcb-8854-5cf481c108a9",
   "metadata": {},
   "outputs": [],
   "source": [
    "totalRows = len(regions)\n",
    "\n",
    "worksheet.autofilter(0,0, totalRows, 1)"
   ]
  },
  {
   "cell_type": "markdown",
   "id": "86c41680-6d4b-495c-97eb-adfa2c63eb86",
   "metadata": {},
   "source": [
    "### Protect worsheet"
   ]
  },
  {
   "cell_type": "code",
   "execution_count": 68,
   "id": "0c273197-4523-4dfa-b5f9-be91306d4f11",
   "metadata": {},
   "outputs": [],
   "source": [
    "worksheet.protect('data', {'autofilter':True}) ## allow autofiltering"
   ]
  },
  {
   "cell_type": "markdown",
   "id": "a72015ce-c0ca-4b25-9130-6c6ef9e0cec0",
   "metadata": {},
   "source": [
    "### Protect cells and ranges"
   ]
  },
  {
   "cell_type": "code",
   "execution_count": 69,
   "id": "2c1e7189-ba9b-48fc-b8df-cf791838712f",
   "metadata": {},
   "outputs": [],
   "source": [
    "worksheet2 = workbook.add_worksheet('summary')"
   ]
  },
  {
   "cell_type": "code",
   "execution_count": 70,
   "id": "8cb474a7-5d9b-4f09-8775-735c1ba58d30",
   "metadata": {},
   "outputs": [
    {
     "data": {
      "text/plain": [
       "0"
      ]
     },
     "execution_count": 70,
     "metadata": {},
     "output_type": "execute_result"
    }
   ],
   "source": [
    "## Protect entire worksheet\n",
    "worksheet2.protect()\n",
    "\n",
    "## Add an unlocked format\n",
    "unlocked = workbook.add_format({'locked':False})\n",
    "\n",
    "##This cell remains locked...\n",
    "worksheet2.write('A1', 'Select region: ')\n",
    "\n",
    "## Unlock this cell\n",
    "worksheet2.write('B1','A', unlocked)\n",
    "\n",
    "## Sum the values\n",
    "worksheet2.write_formula('C1', '=SUMIF(data!A:A, B1, data!B:B)')\n",
    "\n",
    "## Widen columns\n",
    "worksheet2.set_column('A:C', 12)"
   ]
  },
  {
   "cell_type": "markdown",
   "id": "caf7ab80-e46d-44c1-8512-9bd248e338b9",
   "metadata": {},
   "source": [
    "### Add data validation dropdown"
   ]
  },
  {
   "cell_type": "code",
   "execution_count": 71,
   "id": "ffbd2af4-67b0-4a47-8edc-78ef25f4ae80",
   "metadata": {},
   "outputs": [
    {
     "name": "stdout",
     "output_type": "stream",
     "text": [
      "['A', 'B', 'C']\n"
     ]
    }
   ],
   "source": [
    "region_unique = list(set(regions))\n",
    "region_unique.sort()\n",
    "\n",
    "print(region_unique)"
   ]
  },
  {
   "cell_type": "code",
   "execution_count": 72,
   "id": "bdc65aeb-bbe9-4682-b1c7-ca930a41f5b4",
   "metadata": {},
   "outputs": [
    {
     "data": {
      "text/plain": [
       "0"
      ]
     },
     "execution_count": 72,
     "metadata": {},
     "output_type": "execute_result"
    }
   ],
   "source": [
    "## drop down 1\n",
    "worksheet.data_validation('A1', \n",
    "                          {\n",
    "                              'validate':'list',\n",
    "                              'source':region_unique,\n",
    "                              'dropdown':True   \n",
    "                          })\n",
    "\n",
    "\n",
    "## Drop down 2\n",
    "worksheet2.data_validation('A2', \n",
    "                          {\n",
    "                              'validate':'list',\n",
    "                              'source':region_unique,\n",
    "                              'input_title':'Enter a region',\n",
    "                              'input_message':'Value should be alphabetical'\n",
    "                          })\n",
    "\n",
    "## Unlock cell for users\n",
    "worksheet2.write('A2', 'B', unlocked)"
   ]
  },
  {
   "cell_type": "markdown",
   "id": "5396be15-ed17-44fa-96be-a7a5918ed37e",
   "metadata": {},
   "source": [
    "### Set active worksheet"
   ]
  },
  {
   "cell_type": "code",
   "execution_count": 73,
   "id": "e1c1af43-f913-4cae-82a2-71cbc7a0c448",
   "metadata": {},
   "outputs": [],
   "source": [
    "worksheet2.activate()"
   ]
  },
  {
   "cell_type": "markdown",
   "id": "d8d1f7d7-e91e-453a-8dac-7ba05180a1d7",
   "metadata": {},
   "source": [
    "### Close"
   ]
  },
  {
   "cell_type": "code",
   "execution_count": 74,
   "id": "7b168c2a-a5a3-4c51-a3dc-05eaebf3e8f4",
   "metadata": {},
   "outputs": [],
   "source": [
    "workbook.close()"
   ]
  }
 ],
 "metadata": {
  "kernelspec": {
   "display_name": "Python 3 (ipykernel)",
   "language": "python",
   "name": "python3"
  },
  "language_info": {
   "codemirror_mode": {
    "name": "ipython",
    "version": 3
   },
   "file_extension": ".py",
   "mimetype": "text/x-python",
   "name": "python",
   "nbconvert_exporter": "python",
   "pygments_lexer": "ipython3",
   "version": "3.11.5"
  }
 },
 "nbformat": 4,
 "nbformat_minor": 5
}
