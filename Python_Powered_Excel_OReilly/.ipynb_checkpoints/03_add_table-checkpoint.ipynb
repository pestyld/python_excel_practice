{
 "cells": [
  {
   "cell_type": "markdown",
   "id": "20a760f4-216a-4db9-81ee-909a5086c4c7",
   "metadata": {},
   "source": [
    "# Add table"
   ]
  },
  {
   "cell_type": "code",
   "execution_count": 27,
   "id": "30921685-da75-4b28-8312-2a361dff7cc5",
   "metadata": {
    "tags": []
   },
   "outputs": [],
   "source": [
    "import xlsxwriter"
   ]
  },
  {
   "cell_type": "markdown",
   "id": "f265632b-f5c2-46f9-b401-3c4f08fca73e",
   "metadata": {},
   "source": [
    "## Data"
   ]
  },
  {
   "cell_type": "code",
   "execution_count": 28,
   "id": "096498aa-253f-4188-8efe-2f85250ff6ce",
   "metadata": {
    "tags": []
   },
   "outputs": [],
   "source": [
    "student_ids = [254565,456542,246546,2465,\n",
    "               989797,878785,232699,141415, 4646565]\n",
    "\n",
    "students = ['Abby', 'Charlie', 'Mac', 'Dee', 'Peter', 'Steve',\n",
    "            'Frank', 'Cricket', 'Kristi']\n",
    "\n",
    "grades = [.87, .59, .93, .78, .66, .59, .68, .88, .99]"
   ]
  },
  {
   "cell_type": "markdown",
   "id": "e34341b0-e726-417f-b97c-48a902e90a60",
   "metadata": {},
   "source": [
    "## Create table in workbook "
   ]
  },
  {
   "cell_type": "markdown",
   "id": "ce3b9a8c-beca-41f2-bb05-42d2d7cb4e12",
   "metadata": {},
   "source": [
    "### Add data"
   ]
  },
  {
   "cell_type": "code",
   "execution_count": 29,
   "id": "76b33896-b4ac-4fe8-9d10-853e5e138ea6",
   "metadata": {
    "tags": []
   },
   "outputs": [
    {
     "data": {
      "text/plain": [
       "0"
      ]
     },
     "execution_count": 29,
     "metadata": {},
     "output_type": "execute_result"
    }
   ],
   "source": [
    "workbook = xlsxwriter.Workbook(r'../output/09_add_table.xlsx')\n",
    "\n",
    "## Create worksheet\n",
    "worksheet = workbook.add_worksheet('grades')\n",
    "worksheet2 = workbook.add_worksheet('test_hide')\n",
    "\n",
    "## Setting custom formats\n",
    "pct_format = workbook.add_format({'num_format':'0.00%'})\n",
    "\n",
    "## Add data to worksheet\n",
    "worksheet.write_column('A2', student_ids)\n",
    "worksheet.write_column('B2', students)\n",
    "worksheet.write_column('C2', grades, pct_format)"
   ]
  },
  {
   "cell_type": "markdown",
   "id": "5f6fb046-4a1f-4108-8544-0aac019cfb50",
   "metadata": {},
   "source": [
    "### Add table format"
   ]
  },
  {
   "cell_type": "code",
   "execution_count": 30,
   "id": "629a68fb-b012-4580-9829-7230d39c3385",
   "metadata": {
    "tags": []
   },
   "outputs": [
    {
     "data": {
      "text/plain": [
       "0"
      ]
     },
     "execution_count": 30,
     "metadata": {},
     "output_type": "execute_result"
    }
   ],
   "source": [
    "totalRows = len(grades)\n",
    "totalCols = 2\n",
    "\n",
    "worksheet.add_table(0, 0, totalRows, totalCols, \n",
    "                    options = {'name':'Grades',\n",
    "                               'columns':[\n",
    "                                   {'header':'Student ID'},\n",
    "                                   {'header':'Student name'},\n",
    "                                   {'header':'Grade'}\n",
    "                                         ]\n",
    "                              }\n",
    "                   )"
   ]
  },
  {
   "cell_type": "markdown",
   "id": "7976688b-634f-4e4a-980e-e9a75f94f4e6",
   "metadata": {},
   "source": [
    "### Dynamic formula to avg table"
   ]
  },
  {
   "cell_type": "code",
   "execution_count": 31,
   "id": "c3613e7f-8cc0-43b0-9fa7-b8730a7b0908",
   "metadata": {
    "tags": []
   },
   "outputs": [
    {
     "data": {
      "text/plain": [
       "0"
      ]
     },
     "execution_count": 31,
     "metadata": {},
     "output_type": "execute_result"
    }
   ],
   "source": [
    "worksheet.write('E1', 'Average Grade')\n",
    "worksheet.write_formula('F1', '=average(Grades[Grade])')"
   ]
  },
  {
   "cell_type": "markdown",
   "id": "52d3a3c9-1830-45f5-b1ee-d3f5f8055817",
   "metadata": {},
   "source": [
    "### Add cell comments"
   ]
  },
  {
   "cell_type": "code",
   "execution_count": 32,
   "id": "6d029594-e20e-4773-b952-518ad85fd377",
   "metadata": {},
   "outputs": [
    {
     "data": {
      "text/plain": [
       "0"
      ]
     },
     "execution_count": 32,
     "metadata": {},
     "output_type": "execute_result"
    }
   ],
   "source": [
    "worksheet.write_comment('C3', 'Charline spent her summer backpacking in the French Riviera.')"
   ]
  },
  {
   "cell_type": "markdown",
   "id": "e41d6406-18e2-4ecf-9d2d-27aa86ed5da5",
   "metadata": {},
   "source": [
    "### Hiding columns and worksheets"
   ]
  },
  {
   "cell_type": "code",
   "execution_count": 33,
   "id": "292bd600-4422-485f-a397-5a80bacf620c",
   "metadata": {},
   "outputs": [],
   "source": [
    "worksheet2.write_comment('A1', 'Hello')\n",
    "worksheet2.write_comment('B1', 'another')\n",
    "\n",
    "\n",
    "## Hide a column\n",
    "worksheet2.set_column('A:A', None, None, {'hidden':True})\n",
    "\n",
    "## Hide a worksheet\n",
    "worksheet2.hide()"
   ]
  },
  {
   "cell_type": "markdown",
   "id": "056dbc95-7336-402b-9e98-355cb5ee21f8",
   "metadata": {},
   "source": [
    "### Widen columns"
   ]
  },
  {
   "cell_type": "code",
   "execution_count": 34,
   "id": "8ab08b22-4e43-4d81-9d24-5028b86e1a18",
   "metadata": {},
   "outputs": [
    {
     "data": {
      "text/plain": [
       "0"
      ]
     },
     "execution_count": 34,
     "metadata": {},
     "output_type": "execute_result"
    }
   ],
   "source": [
    "worksheet.set_column('B:E', 16)"
   ]
  },
  {
   "cell_type": "markdown",
   "id": "35fd69c0-b1d2-448a-938c-001ce56a06a0",
   "metadata": {},
   "source": [
    "### Close workbook"
   ]
  },
  {
   "cell_type": "code",
   "execution_count": 35,
   "id": "e6829352-9f9f-4fc8-9ea1-036db61761e3",
   "metadata": {
    "tags": []
   },
   "outputs": [],
   "source": [
    "workbook.close()"
   ]
  },
  {
   "cell_type": "code",
   "execution_count": null,
   "id": "e92eecb3-0dea-4ae7-98a6-cd9eff570519",
   "metadata": {},
   "outputs": [],
   "source": []
  }
 ],
 "metadata": {
  "kernelspec": {
   "display_name": "Python 3 (ipykernel)",
   "language": "python",
   "name": "python3"
  },
  "language_info": {
   "codemirror_mode": {
    "name": "ipython",
    "version": 3
   },
   "file_extension": ".py",
   "mimetype": "text/x-python",
   "name": "python",
   "nbconvert_exporter": "python",
   "pygments_lexer": "ipython3",
   "version": "3.11.5"
  }
 },
 "nbformat": 4,
 "nbformat_minor": 5
}
