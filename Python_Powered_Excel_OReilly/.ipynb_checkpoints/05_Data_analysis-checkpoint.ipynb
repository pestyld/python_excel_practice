{
 "cells": [
  {
   "cell_type": "markdown",
   "id": "ffa1adaf-8a54-4b7c-aaf1-461407cc7841",
   "metadata": {},
   "source": [
    "# Data Analysis"
   ]
  },
  {
   "cell_type": "code",
   "execution_count": 16,
   "id": "6106c656-764e-4699-8fc4-a8bd87863618",
   "metadata": {},
   "outputs": [
    {
     "data": {
      "text/html": [
       "<div>\n",
       "<style scoped>\n",
       "    .dataframe tbody tr th:only-of-type {\n",
       "        vertical-align: middle;\n",
       "    }\n",
       "\n",
       "    .dataframe tbody tr th {\n",
       "        vertical-align: top;\n",
       "    }\n",
       "\n",
       "    .dataframe thead th {\n",
       "        text-align: right;\n",
       "    }\n",
       "</style>\n",
       "<table border=\"1\" class=\"dataframe\">\n",
       "  <thead>\n",
       "    <tr style=\"text-align: right;\">\n",
       "      <th></th>\n",
       "      <th>borough</th>\n",
       "      <th>land_area</th>\n",
       "    </tr>\n",
       "  </thead>\n",
       "  <tbody>\n",
       "    <tr>\n",
       "      <th>0</th>\n",
       "      <td>The Bronx</td>\n",
       "      <td>42.10</td>\n",
       "    </tr>\n",
       "    <tr>\n",
       "      <th>1</th>\n",
       "      <td>Brooklyn</td>\n",
       "      <td>70.82</td>\n",
       "    </tr>\n",
       "    <tr>\n",
       "      <th>2</th>\n",
       "      <td>Manhattan</td>\n",
       "      <td>22.83</td>\n",
       "    </tr>\n",
       "    <tr>\n",
       "      <th>3</th>\n",
       "      <td>Queens</td>\n",
       "      <td>108.53</td>\n",
       "    </tr>\n",
       "    <tr>\n",
       "      <th>4</th>\n",
       "      <td>Staten Island</td>\n",
       "      <td>58.37</td>\n",
       "    </tr>\n",
       "  </tbody>\n",
       "</table>\n",
       "</div>"
      ],
      "text/plain": [
       "         borough  land_area\n",
       "0      The Bronx      42.10\n",
       "1       Brooklyn      70.82\n",
       "2      Manhattan      22.83\n",
       "3         Queens     108.53\n",
       "4  Staten Island      58.37"
      ]
     },
     "execution_count": 16,
     "metadata": {},
     "output_type": "execute_result"
    }
   ],
   "source": [
    "import xlsxwriter\n",
    "import pandas as pd\n",
    "import numpy as np\n",
    "import seaborn as sns\n",
    "import matplotlib.pyplot as plt\n",
    "\n",
    "## fake data\n",
    "data = {\n",
    "    'borough':['The Bronx', 'Brooklyn', 'Manhattan', 'Queens', 'Staten Island'],\n",
    "    'land_area':[42.10, 70.82, 22.83, 108.53, 58.37]\n",
    "}\n",
    "\n",
    "df = pd.DataFrame(data)\n",
    "df"
   ]
  },
  {
   "cell_type": "markdown",
   "id": "ccb6104d-9ebe-45e8-8973-2f0b29db69cc",
   "metadata": {},
   "source": [
    "## Export to Excel - Simple\n",
    "Few considerations\n",
    "1. Set the pandas Excel-writing engine to xlsxwriter with ExcelWrite()\n",
    "2. Convert the DAtaFrame into an xlsxwriter object with to_excel()\n",
    "3. Create a workbook and worksheet objects for resulting output with writer.book and writer.sheets"
   ]
  },
  {
   "cell_type": "markdown",
   "id": "492f481d-5dd9-48f2-a9d0-0f0c1d60b951",
   "metadata": {},
   "source": [
    "### Convert dataframe to XlsxWriter Excel object"
   ]
  },
  {
   "cell_type": "code",
   "execution_count": 2,
   "id": "29bc2d13-69f7-4dea-aaac-a9ecd4b1ab8a",
   "metadata": {},
   "outputs": [
    {
     "data": {
      "text/plain": [
       "pandas.io.excel._xlsxwriter.XlsxWriter"
      ]
     },
     "execution_count": 2,
     "metadata": {},
     "output_type": "execute_result"
    }
   ],
   "source": [
    "# Set pandas engine to xlsxwriter\n",
    "writer = pd.ExcelWriter(r'../output/11_pandas_analysis_simple.xlsx')\n",
    "\n",
    "type(writer)"
   ]
  },
  {
   "cell_type": "code",
   "execution_count": 3,
   "id": "bc22a3b3-facb-4c61-93ce-b15d51c43014",
   "metadata": {},
   "outputs": [],
   "source": [
    "## Convert dataframe to an XlsxWriter Excel object\n",
    "df.to_excel(writer, sheet_name = 'Sheet1')"
   ]
  },
  {
   "cell_type": "code",
   "execution_count": 4,
   "id": "393c0830-93e2-43e4-bfd0-0362dedaf37d",
   "metadata": {},
   "outputs": [],
   "source": [
    "# Get the xlsxwriter objects from the DAtaFrame writer object.\n",
    "workbook = writer.book\n",
    "worksheet = writer.sheets['Sheet1']"
   ]
  },
  {
   "cell_type": "code",
   "execution_count": 5,
   "id": "d14c6440-4643-4f98-a3cb-b4675531d89c",
   "metadata": {},
   "outputs": [],
   "source": [
    "workbook.close()"
   ]
  },
  {
   "cell_type": "markdown",
   "id": "80de2fc8-ecb7-4a3a-b629-1e0686b5fd86",
   "metadata": {},
   "source": [
    "## Export to Excel"
   ]
  },
  {
   "cell_type": "code",
   "execution_count": 48,
   "id": "4134f696-2284-4b18-a490-a37bd2d5ce0e",
   "metadata": {},
   "outputs": [
    {
     "data": {
      "text/plain": [
       "array([740., 830., 140., 680., 950.])"
      ]
     },
     "execution_count": 48,
     "metadata": {},
     "output_type": "execute_result"
    }
   ],
   "source": [
    "np.random.random(5).round(2) *1000"
   ]
  },
  {
   "cell_type": "markdown",
   "id": "14cf67e5-436c-4bc2-b268-7f4c3fa51048",
   "metadata": {},
   "source": [
    "### Manipulate dataframe"
   ]
  },
  {
   "cell_type": "code",
   "execution_count": 53,
   "id": "73f70ab2-b1c4-4c5d-99fd-1d998708fb02",
   "metadata": {},
   "outputs": [
    {
     "data": {
      "text/html": [
       "<div>\n",
       "<style scoped>\n",
       "    .dataframe tbody tr th:only-of-type {\n",
       "        vertical-align: middle;\n",
       "    }\n",
       "\n",
       "    .dataframe tbody tr th {\n",
       "        vertical-align: top;\n",
       "    }\n",
       "\n",
       "    .dataframe thead th {\n",
       "        text-align: right;\n",
       "    }\n",
       "</style>\n",
       "<table border=\"1\" class=\"dataframe\">\n",
       "  <thead>\n",
       "    <tr style=\"text-align: right;\">\n",
       "      <th></th>\n",
       "      <th>BOROUGH</th>\n",
       "      <th>LAND_AREA</th>\n",
       "      <th>LOCATION</th>\n",
       "      <th>PCT</th>\n",
       "      <th>NUMBER</th>\n",
       "    </tr>\n",
       "  </thead>\n",
       "  <tbody>\n",
       "    <tr>\n",
       "      <th>2</th>\n",
       "      <td>Manhattan</td>\n",
       "      <td>22.83</td>\n",
       "      <td>NYC</td>\n",
       "      <td>0.603814</td>\n",
       "      <td>410.0</td>\n",
       "    </tr>\n",
       "    <tr>\n",
       "      <th>0</th>\n",
       "      <td>The Bronx</td>\n",
       "      <td>42.10</td>\n",
       "      <td>NYC</td>\n",
       "      <td>0.277116</td>\n",
       "      <td>310.0</td>\n",
       "    </tr>\n",
       "    <tr>\n",
       "      <th>4</th>\n",
       "      <td>Staten Island</td>\n",
       "      <td>58.37</td>\n",
       "      <td>NYC</td>\n",
       "      <td>0.156010</td>\n",
       "      <td>850.0</td>\n",
       "    </tr>\n",
       "    <tr>\n",
       "      <th>1</th>\n",
       "      <td>Brooklyn</td>\n",
       "      <td>70.82</td>\n",
       "      <td>NYC</td>\n",
       "      <td>0.984112</td>\n",
       "      <td>380.0</td>\n",
       "    </tr>\n",
       "    <tr>\n",
       "      <th>3</th>\n",
       "      <td>Queens</td>\n",
       "      <td>108.53</td>\n",
       "      <td>NYC</td>\n",
       "      <td>0.596404</td>\n",
       "      <td>50.0</td>\n",
       "    </tr>\n",
       "  </tbody>\n",
       "</table>\n",
       "</div>"
      ],
      "text/plain": [
       "         BOROUGH  LAND_AREA LOCATION       PCT  NUMBER\n",
       "2      Manhattan      22.83      NYC  0.603814   410.0\n",
       "0      The Bronx      42.10      NYC  0.277116   310.0\n",
       "4  Staten Island      58.37      NYC  0.156010   850.0\n",
       "1       Brooklyn      70.82      NYC  0.984112   380.0\n",
       "3         Queens     108.53      NYC  0.596404    50.0"
      ]
     },
     "execution_count": 53,
     "metadata": {},
     "output_type": "execute_result"
    }
   ],
   "source": [
    "## Function to rename columns\n",
    "def upcase_cols(column_name):\n",
    "    return column_name.upper()\n",
    "\n",
    "\n",
    "## Prepare data\n",
    "nyc = (\n",
    "    df\n",
    "    .assign(                           ## Random column creation\n",
    "        Location = 'NYC',\n",
    "        Pct = np.random.random(5),\n",
    "        Number = np.random.random(5).round(2) *1000\n",
    "    )\n",
    "    .rename(columns = upcase_cols)     ## Rename columns\n",
    "    .sort_values(by = 'LAND_AREA')\n",
    ")\n",
    "\n",
    "nyc"
   ]
  },
  {
   "cell_type": "markdown",
   "id": "2b2019f7-8697-4328-a5c0-8676b428d4c0",
   "metadata": {},
   "source": [
    "### Export DataFrames to Excel"
   ]
  },
  {
   "cell_type": "code",
   "execution_count": 51,
   "id": "fd965a3b-c4e2-48d4-84b3-57af01acf17c",
   "metadata": {},
   "outputs": [],
   "source": [
    "## Set pandas engine to xlsxwriter\n",
    "writer = pd.ExcelWriter(r'../output/11_pandas_analysis.xlsx')\n",
    "\n",
    "\n",
    "## Convert dataframe to an XlsxWriter Excel object\n",
    "nyc.to_excel(writer, sheet_name = 'Sheet1', index = False)\n",
    "\n",
    "\n",
    "# Get the xlsxwriter objects from the DataFrame writer object.\n",
    "workbook = writer.book\n",
    "worksheet = writer.sheets['Sheet1']\n",
    "\n",
    "\n",
    "##\n",
    "## Set up column formatting\n",
    "##\n",
    "\n",
    "## numeric format\n",
    "pct_format = workbook.add_format({'num_format':'0.00%'})\n",
    "\n",
    "## Format columns in worksheet\n",
    "col_width = 20\n",
    "worksheet.set_column('A:A', col_width)\n",
    "worksheet.set_column('B:B', col_width)\n",
    "worksheet.set_column('C:C', col_width)\n",
    "worksheet.set_column('D:D', col_width, pct_format)\n",
    "\n",
    "\n",
    "##\n",
    "## Conditional formatting\n",
    "##\n",
    "\n",
    "## Color formats\n",
    "green_format = workbook.add_format({'bg_color':'#C6EFCE', \n",
    "                                    'font_color':'#006100'})\n",
    "\n",
    "red_format = workbook.add_format({'bg_color':'#FFC7CE'})\n",
    "\n",
    "worksheet.conditional_format('B2:B11', \n",
    "                             {\n",
    "                                'type':'cell',\n",
    "                                'criteria':'greater than', \n",
    "                                'value':50, \n",
    "                                'format':green_format\n",
    "                             }\n",
    "                            )\n",
    "\n",
    "\n",
    "\n",
    "##\n",
    "## Find top n and bottom n in a range\n",
    "##\n",
    "\n",
    "## Top\n",
    "worksheet.conditional_format('D2:D11', \n",
    "                             {\n",
    "                                'type':'top',\n",
    "                                'value':1, \n",
    "                                'format':green_format\n",
    "                             }\n",
    "                            )\n",
    "\n",
    "## bottom\n",
    "worksheet.conditional_format('D2:D11', \n",
    "                             {\n",
    "                                'type':'bottom',\n",
    "                                'value':1, \n",
    "                                'format':red_format\n",
    "                             }\n",
    "                            )\n",
    "\n",
    "\n",
    "##\n",
    "## Add data bar\n",
    "##\n",
    "worksheet.conditional_format('E2:E11', {'type':'data_bar'})\n",
    "\n",
    "\n",
    "##\n",
    "## Add color scale bar\n",
    "##\n",
    "worksheet.conditional_format('E2:E11', {'type':'3_color_scale'})\n",
    "\n",
    "\n",
    "workbook.close()"
   ]
  },
  {
   "cell_type": "markdown",
   "id": "063f601b-59d7-4a10-b314-0a4e20a7539a",
   "metadata": {},
   "source": [
    "### Export Visualizations to Excel"
   ]
  },
  {
   "cell_type": "code",
   "execution_count": 52,
   "id": "af603cdf-51e3-4af2-9a7a-a546610b51b0",
   "metadata": {},
   "outputs": [
    {
     "data": {
      "text/html": [
       "<div>\n",
       "<style scoped>\n",
       "    .dataframe tbody tr th:only-of-type {\n",
       "        vertical-align: middle;\n",
       "    }\n",
       "\n",
       "    .dataframe tbody tr th {\n",
       "        vertical-align: top;\n",
       "    }\n",
       "\n",
       "    .dataframe thead th {\n",
       "        text-align: right;\n",
       "    }\n",
       "</style>\n",
       "<table border=\"1\" class=\"dataframe\">\n",
       "  <thead>\n",
       "    <tr style=\"text-align: right;\">\n",
       "      <th></th>\n",
       "      <th>BOROUGH</th>\n",
       "      <th>LAND_AREA</th>\n",
       "      <th>LOCATION</th>\n",
       "      <th>PCT</th>\n",
       "      <th>NUMBER</th>\n",
       "    </tr>\n",
       "  </thead>\n",
       "  <tbody>\n",
       "    <tr>\n",
       "      <th>0</th>\n",
       "      <td>The Bronx</td>\n",
       "      <td>42.10</td>\n",
       "      <td>NYC</td>\n",
       "      <td>0.304382</td>\n",
       "      <td>580.0</td>\n",
       "    </tr>\n",
       "    <tr>\n",
       "      <th>1</th>\n",
       "      <td>Brooklyn</td>\n",
       "      <td>70.82</td>\n",
       "      <td>NYC</td>\n",
       "      <td>0.696741</td>\n",
       "      <td>300.0</td>\n",
       "    </tr>\n",
       "    <tr>\n",
       "      <th>2</th>\n",
       "      <td>Manhattan</td>\n",
       "      <td>22.83</td>\n",
       "      <td>NYC</td>\n",
       "      <td>0.936103</td>\n",
       "      <td>460.0</td>\n",
       "    </tr>\n",
       "    <tr>\n",
       "      <th>3</th>\n",
       "      <td>Queens</td>\n",
       "      <td>108.53</td>\n",
       "      <td>NYC</td>\n",
       "      <td>0.167389</td>\n",
       "      <td>240.0</td>\n",
       "    </tr>\n",
       "    <tr>\n",
       "      <th>4</th>\n",
       "      <td>Staten Island</td>\n",
       "      <td>58.37</td>\n",
       "      <td>NYC</td>\n",
       "      <td>0.711530</td>\n",
       "      <td>890.0</td>\n",
       "    </tr>\n",
       "  </tbody>\n",
       "</table>\n",
       "</div>"
      ],
      "text/plain": [
       "         BOROUGH  LAND_AREA LOCATION       PCT  NUMBER\n",
       "0      The Bronx      42.10      NYC  0.304382   580.0\n",
       "1       Brooklyn      70.82      NYC  0.696741   300.0\n",
       "2      Manhattan      22.83      NYC  0.936103   460.0\n",
       "3         Queens     108.53      NYC  0.167389   240.0\n",
       "4  Staten Island      58.37      NYC  0.711530   890.0"
      ]
     },
     "execution_count": 52,
     "metadata": {},
     "output_type": "execute_result"
    }
   ],
   "source": [
    "nyc"
   ]
  },
  {
   "cell_type": "code",
   "execution_count": 73,
   "id": "e1742d44-8fa3-40bd-8f95-2687dbea73dd",
   "metadata": {},
   "outputs": [
    {
     "data": {
      "image/png": "[encoded data removed]",
      "text/plain": [
       "<Figure size 640x480 with 1 Axes>"
      ]
     },
     "metadata": {},
     "output_type": "display_data"
    }
   ],
   "source": [
    "writer = pd.ExcelWriter('../output/12_visualizations_1.xlsx')\n",
    "nyc.to_excel(writer, sheet_name = 'Sheet1', index = False)\n",
    "\n",
    "workbook = writer.book\n",
    "worksheet = writer.sheets['Sheet1']\n",
    "\n",
    "\n",
    "##\n",
    "## Add excel chart\n",
    "##\n",
    "\n",
    "## Add chart\n",
    "nyc_chart = workbook.add_chart({'type':'bar'})\n",
    "\n",
    "nyc_bar_data = {\n",
    "    'name':'=Sheet1!$B$1',\n",
    "    'categories':'=Sheet1!$A$2:$A$6',\n",
    "    'values':'=Sheet1!$B$2:$B$6'\n",
    "}\n",
    "nyc_chart.add_series(nyc_bar_data)\n",
    "nyc_chart.set_title({'name':'Land area of NYC Boroughs'})\n",
    "nyc_chart.set_x_axis({'name':'Borough'})\n",
    "nyc_chart.set_y_axis({'name':'Land area (square miles)'})\n",
    "\n",
    "worksheet.insert_chart('A8', nyc_chart)\n",
    "\n",
    "\n",
    "\n",
    "##\n",
    "## Add python image\n",
    "##\n",
    "\n",
    "ax = sns.barplot(data = nyc, x='LAND_AREA', y='BOROUGH', color = 'blue', )\n",
    "ax.set_title('Land area of NYC Boroughs')\n",
    "plt.savefig('../output/nyc_land.png', bbox_inches='tight', dpi = (400))\n",
    "\n",
    "worksheet.insert_image('A26', 'nyc_land.png')\n",
    "\n",
    "\n",
    "workbook.close()"
   ]
  },
  {
   "cell_type": "code",
   "execution_count": 70,
   "id": "90c49592-40b4-4c89-8ee0-fd5bbc5c0bdd",
   "metadata": {},
   "outputs": [
    {
     "data": {
      "image/png": "[encoded data removed]",
      "text/plain": [
       "<Figure size 640x480 with 1 Axes>"
      ]
     },
     "metadata": {},
     "output_type": "display_data"
    }
   ],
   "source": []
  },
  {
   "cell_type": "code",
   "execution_count": null,
   "id": "0238454d-86d8-48b0-9769-6af7c67d3a28",
   "metadata": {},
   "outputs": [],
   "source": []
  }
 ],
 "metadata": {
  "kernelspec": {
   "display_name": "Python 3 (ipykernel)",
   "language": "python",
   "name": "python3"
  },
  "language_info": {
   "codemirror_mode": {
    "name": "ipython",
    "version": 3
   },
   "file_extension": ".py",
   "mimetype": "text/x-python",
   "name": "python",
   "nbconvert_exporter": "python",
   "pygments_lexer": "ipython3",
   "version": "3.11.5"
  }
 },
 "nbformat": 4,
 "nbformat_minor": 5
}
